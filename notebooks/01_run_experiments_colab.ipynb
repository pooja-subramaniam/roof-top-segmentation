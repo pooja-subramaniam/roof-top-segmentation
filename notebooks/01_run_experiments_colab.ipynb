{
 "cells": [
  {
   "cell_type": "code",
   "execution_count": null,
   "metadata": {},
   "outputs": [],
   "source": [
    "#%cd src\n"
   ]
  },
  {
   "cell_type": "code",
   "execution_count": null,
   "metadata": {},
   "outputs": [],
   "source": []
  }
 ],
 "metadata": {
  "kernelspec": {
   "display_name": "Python 3",
   "language": "python",
   "name": "python3"
  },
  "language_info": {
   "name": "python",
   "version": "3.10.9"
  },
  "orig_nbformat": 4,
  "vscode": {
   "interpreter": {
    "hash": "0facea11c2f1b163985b2dcb390feffcc180987dd0fbc688533f79f64b606d73"
   }
  }
 },
 "nbformat": 4,
 "nbformat_minor": 2
}
